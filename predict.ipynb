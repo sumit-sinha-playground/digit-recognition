{
 "cells": [
  {
   "cell_type": "markdown",
   "id": "e7fcca9c",
   "metadata": {},
   "source": [
    "# Prediction"
   ]
  },
  {
   "cell_type": "code",
   "execution_count": 1,
   "id": "4ef15456",
   "metadata": {},
   "outputs": [],
   "source": [
    "from matplotlib import pyplot as plt\n",
    "import forward_prop\n",
    "\n",
    "def make_prediction(X, weights_and_biases):\n",
    "    params = forward_prop.forward_prop(X, weights_and_biases)\n",
    "    predictions = forward_prop.get_predictions(params[1][1])\n",
    "    return predictions\n",
    "\n",
    "def test_prediction(index, X, Y, weights_and_biases):\n",
    "    current_image = X[:, index, None]\n",
    "    prediction = make_prediction(current_image, weights_and_biases)\n",
    "    label = Y[index]\n",
    "    return current_image, prediction, label\n",
    "\n",
    "def plot_prediction(index, X, Y, weights_and_biases):\n",
    "    current_image, prediction, label = test_prediction(index, X, Y, weights_and_biases)\n",
    "    print(f'Prediction: {prediction}')\n",
    "    print(f'Label: {label}')\n",
    "\n",
    "    current_image = current_image.reshape((28, 28)) * 255\n",
    "    plt.gray()\n",
    "    plt.imshow(current_image, interpolation='nearest')\n",
    "    plt.show()\n",
    "\n",
    "def test_accuracy(X, Y, weights_and_biases):\n",
    "    correct_prediction = 0\n",
    "    if X.shape[1] == 0:\n",
    "        return correct_prediction\n",
    "    for index in range(X.shape[1]):\n",
    "        _, prediction, label = test_prediction(index, X, Y, weights_and_biases)\n",
    "        if prediction[0] == label:\n",
    "            correct_prediction += 1\n",
    "    return (correct_prediction / X.shape[1]) * 100\n"
   ]
  },
  {
   "cell_type": "markdown",
   "id": "6fbfd392",
   "metadata": {},
   "source": [
    "# Test"
   ]
  },
  {
   "cell_type": "code",
   "execution_count": 2,
   "id": "c3760c79",
   "metadata": {},
   "outputs": [
    {
     "name": "stdout",
     "output_type": "stream",
     "text": [
      "Test accuracy: 88.75%\n",
      "Prediction: [0]\n",
      "Label: 0\n"
     ]
    },
    {
     "data": {
      "image/png": "[encoded data removed]",
      "text/plain": [
       "<Figure size 640x480 with 1 Axes>"
      ]
     },
     "metadata": {},
     "output_type": "display_data"
    }
   ],
   "source": [
    "import numpy as np\n",
    "import os\n",
    "import pandas as pd\n",
    "\n",
    "mnist_test = pd.read_csv(os.path.join('data', 'mnist_test.csv'))\n",
    "mnist_test = np.array(mnist_test)\n",
    "\n",
    "data_test = mnist_test.T\n",
    "Y_test = data_test[0]\n",
    "X_test = data_test[1: mnist_test.shape[1]] / 255\n",
    "\n",
    "weights_and_biases = []\n",
    "loaded_data = np.load(os.path.join('bin', 'trained_params.npz'))\n",
    "for i in range(2):\n",
    "    W = loaded_data[f'W{i}']\n",
    "    b = loaded_data[f'b{i}']\n",
    "    weights_and_biases.append((W, b))\n",
    "\n",
    "print(f'Test accuracy: {test_accuracy(X_test, Y_test, weights_and_biases)}%')\n",
    "plot_prediction(np.random.randint(0, 1000), X_test, Y_test, weights_and_biases)"
   ]
  }
 ],
 "metadata": {
  "kernelspec": {
   "display_name": ".venv",
   "language": "python",
   "name": "python3"
  },
  "language_info": {
   "codemirror_mode": {
    "name": "ipython",
    "version": 3
   },
   "file_extension": ".py",
   "mimetype": "text/x-python",
   "name": "python",
   "nbconvert_exporter": "python",
   "pygments_lexer": "ipython3",
   "version": "3.13.3"
  }
 },
 "nbformat": 4,
 "nbformat_minor": 5
}
